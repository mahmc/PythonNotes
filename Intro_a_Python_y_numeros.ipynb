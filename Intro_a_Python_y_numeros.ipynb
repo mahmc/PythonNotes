{
  "nbformat": 4,
  "nbformat_minor": 0,
  "metadata": {
    "colab": {
      "provenance": [],
      "authorship_tag": "ABX9TyPw99ByBZ6uR3BzPBthpBXP",
      "include_colab_link": true
    },
    "kernelspec": {
      "name": "python3",
      "display_name": "Python 3"
    },
    "language_info": {
      "name": "python"
    }
  },
  "cells": [
    {
      "cell_type": "markdown",
      "metadata": {
        "id": "view-in-github",
        "colab_type": "text"
      },
      "source": [
        "<a href=\"https://colab.research.google.com/github/mevangelista-alvarado/Python_Notas/blob/master/Intro_a_Python_y_numeros.ipynb\" target=\"_parent\"><img src=\"https://colab.research.google.com/assets/colab-badge.svg\" alt=\"Open In Colab\"/></a>"
      ]
    },
    {
      "cell_type": "markdown",
      "source": [
        "**Actualizado:** Julio de 2023"
      ],
      "metadata": {
        "id": "MzTlz-L1GX43"
      }
    },
    {
      "cell_type": "markdown",
      "source": [
        "# Introducción"
      ],
      "metadata": {
        "id": "3tP1TZUbGPiV"
      }
    },
    {
      "cell_type": "markdown",
      "source": [
        "Python es un lenguage de programación poderoso y fácil de aprender.\n",
        "\n",
        "Tiene un alto nivel de estructura de datos y una forma simple, pero efectiva de aproximarse a la programación orientada a objetos. La sintaxis elegante y dinámica de Python, junto con su interprete natural, lo hacen el lenguaje ideal para desarrollar aplicaciones rápidas en diversas áreas."
      ],
      "metadata": {
        "id": "mY7GMTp8HzCp"
      }
    },
    {
      "cell_type": "markdown",
      "source": [
        "El intérprete de Python y todas sus librerías estándar se pueden encontrar gratuitamente para la mayoría de plataformas en el sitio [Web de Python](https://www.python.org/). También, en este sitio se pueden encontrar la documentación ofical de Python, tutoriales y herramientas."
      ],
      "metadata": {
        "id": "qSD2FWMrH8xN"
      }
    },
    {
      "cell_type": "markdown",
      "source": [
        "Podemos encontrar a Python en dos versiones: Python2 (Deprecado en 2020) y Python3. Actualmente Python3 se encuentra incorporado nativamente en Linux y Mac Os, sin embargo podemos optar por instalar otra distribución como Anaconda.\n",
        "\n",
        "En este curso utilizaremos Python3, desde los notebooks de [Google Colab](https://colab.research.google.com/notebooks/welcome.ipynb), trabajar con la distribución nativa o con otra que instalemos no implica diferencia alguna para este curso. Si no sabemos cómo comprobar la versión por default en nuestro sistema o estamos utilizando Windows, podemos directamente descargar e instalar la distribución de Anaconda mediante el siguiente enlace: [Descarga Anaconda](https://www.anaconda.com/distribution/#download-section)"
      ],
      "metadata": {
        "id": "76FKOxYILSFr"
      }
    },
    {
      "cell_type": "markdown",
      "source": [
        "# Python como Calculadora"
      ],
      "metadata": {
        "id": "qsDy68NOMATa"
      }
    },
    {
      "cell_type": "markdown",
      "source": [
        "\n",
        "\n",
        "Python es un lenguaje de programación que nos permite dictar instrucciones a una computadora. Este lenguaje se ha vuelto muy popular en los últimos años debido a su facilidad de sintaxis y curva de aprendizaje.\n",
        "\n",
        "La mejor forma de aprender a programar es haciéndolo. Da click en cualquier bloque de código de este curso y preciona ctrl + Enter para correrlo.\n",
        "\n",
        "Debemos tener presente que las instrucciones se organizan en bloques y se ejecutan de acuerdo al orden con el que fueron escritas.\n",
        "\n",
        "\n"
      ],
      "metadata": {
        "id": "J_3nXu77Lx7T"
      }
    },
    {
      "cell_type": "markdown",
      "source": [
        "## Números\n",
        "\n"
      ],
      "metadata": {
        "id": "Ok9IGyVaMEnC"
      }
    },
    {
      "cell_type": "markdown",
      "source": [
        "El interprete de Python actúa como una calculadora simple: puedes escribir una expresión en él y te regresará el valor.\n",
        "\n",
        "La sintaxis para las expresiones es sencilla: los operadores `+`, `-`,`*` y `/` funcionan como en la mayoría de otros lenguajes; también podemos usar paréntesis `(())` para agrupar y `**` para elevar a una potencia.\n",
        "\n",
        "Por ejemplo:"
      ],
      "metadata": {
        "id": "KCpUvAWyMIsA"
      }
    },
    {
      "cell_type": "code",
      "execution_count": null,
      "metadata": {
        "id": "5JSQrFgRFgoI"
      },
      "outputs": [],
      "source": [
        "1+2"
      ]
    },
    {
      "cell_type": "code",
      "source": [
        "3-4*5"
      ],
      "metadata": {
        "id": "K_ZBsRaJMRad"
      },
      "execution_count": null,
      "outputs": []
    },
    {
      "cell_type": "code",
      "source": [
        "(3-4*5)/2"
      ],
      "metadata": {
        "id": "iuVDJL0IMYJ4"
      },
      "execution_count": null,
      "outputs": []
    },
    {
      "cell_type": "code",
      "source": [
        "1/2"
      ],
      "metadata": {
        "colab": {
          "base_uri": "https://localhost:8080/"
        },
        "id": "lZ3YCYhWMgT_",
        "outputId": "35f2dc0f-a797-4cfb-809f-4d84fbadf1f7"
      },
      "execution_count": null,
      "outputs": [
        {
          "output_type": "execute_result",
          "data": {
            "text/plain": [
              "0.5"
            ]
          },
          "metadata": {},
          "execution_count": 3
        }
      ]
    },
    {
      "cell_type": "code",
      "source": [
        "2**2"
      ],
      "metadata": {
        "colab": {
          "base_uri": "https://localhost:8080/"
        },
        "id": "UJwKQ6yQOUfp",
        "outputId": "269e1dd9-4ff5-491a-8f59-0801980d7fab"
      },
      "execution_count": null,
      "outputs": [
        {
          "output_type": "execute_result",
          "data": {
            "text/plain": [
              "4"
            ]
          },
          "metadata": {},
          "execution_count": 4
        }
      ]
    },
    {
      "cell_type": "markdown",
      "source": [
        "Los números enteros, como 1,2 y 3 son de tipo enteros (`int`), los que tienen una parte decimal, como 5.0 o 1.6 son de tipo flotante (`float`).\n",
        "\n"
      ],
      "metadata": {
        "id": "l4L7Lq05MxeJ"
      }
    },
    {
      "cell_type": "markdown",
      "source": [
        "La división siempre regresa un valor de tipo flotante. Por ejemplo, la división `1/2` regresa el valor `0.5`.\n",
        "\n"
      ],
      "metadata": {
        "id": "nar83YkTNR45"
      }
    },
    {
      "cell_type": "markdown",
      "source": [
        "Para obtener un valor entero en la división y olvidarnos de la parte racional, utilizamos el operador `//` y para calcular el residuo podemos usar el operador `%`."
      ],
      "metadata": {
        "id": "wbebPzwuNSE4"
      }
    },
    {
      "cell_type": "code",
      "source": [
        "1//2 # Muestra la parte entera de la division"
      ],
      "metadata": {
        "colab": {
          "base_uri": "https://localhost:8080/"
        },
        "id": "LOJbsaSuNsOF",
        "outputId": "f555f1da-87ab-4e40-ddde-d9318cbd5158"
      },
      "execution_count": null,
      "outputs": [
        {
          "output_type": "execute_result",
          "data": {
            "text/plain": [
              "0"
            ]
          },
          "metadata": {},
          "execution_count": 1
        }
      ]
    },
    {
      "cell_type": "code",
      "source": [
        "1%2 # Muestra el residuo de la division"
      ],
      "metadata": {
        "colab": {
          "base_uri": "https://localhost:8080/"
        },
        "id": "8ui83OPeNz7i",
        "outputId": "61172cb8-82e6-489c-ddb4-65a4236eaa0b"
      },
      "execution_count": null,
      "outputs": [
        {
          "output_type": "execute_result",
          "data": {
            "text/plain": [
              "1"
            ]
          },
          "metadata": {},
          "execution_count": 2
        }
      ]
    },
    {
      "cell_type": "markdown",
      "source": [
        "## Variables"
      ],
      "metadata": {
        "id": "udqmNkzxOeCu"
      }
    },
    {
      "cell_type": "markdown",
      "source": [
        "En algunos lenguajes de programación, las variables se pueden entender como \"cajas\" en las que se guardan los datos, pero en Python las variables son \"etiquetas\" que permiten hacer referencia a los datos\n"
      ],
      "metadata": {
        "id": "qq3qt_PwOfIY"
      }
    },
    {
      "cell_type": "markdown",
      "source": [
        "Utilizamos el signo `=` para referenciar un valor a una variable, la asiganción siempre es de izquiera a derecha, es decir, `etiqueta = valor `"
      ],
      "metadata": {
        "id": "Boqb1CvmOvYx"
      }
    },
    {
      "cell_type": "code",
      "source": [
        "base = 4\n",
        "altura = 5*2\n",
        "base * altura"
      ],
      "metadata": {
        "colab": {
          "base_uri": "https://localhost:8080/"
        },
        "id": "440AwY7zPGMg",
        "outputId": "ab36d364-1a46-4f1d-c4b6-82d478c1842b"
      },
      "execution_count": null,
      "outputs": [
        {
          "output_type": "execute_result",
          "data": {
            "text/plain": [
              "40"
            ]
          },
          "metadata": {},
          "execution_count": 6
        }
      ]
    },
    {
      "cell_type": "markdown",
      "source": [
        "Si una variable no está definida previamente, al tratar de usarla nos dará un mensaje de error:\n",
        "\n",
        "`NameError: name 'a' is not defined`"
      ],
      "metadata": {
        "id": "80nfAwK3PDWl"
      }
    },
    {
      "cell_type": "code",
      "source": [
        "variable_no_definida"
      ],
      "metadata": {
        "colab": {
          "base_uri": "https://localhost:8080/",
          "height": 169
        },
        "id": "fDSOKDKuPaDy",
        "outputId": "76535b58-d679-4a68-e607-550ec746e133"
      },
      "execution_count": null,
      "outputs": [
        {
          "output_type": "error",
          "ename": "NameError",
          "evalue": "ignored",
          "traceback": [
            "\u001b[0;31m---------------------------------------------------------------------------\u001b[0m",
            "\u001b[0;31mNameError\u001b[0m                                 Traceback (most recent call last)",
            "\u001b[0;32m<ipython-input-8-d8bb43089889>\u001b[0m in \u001b[0;36m<cell line: 1>\u001b[0;34m()\u001b[0m\n\u001b[0;32m----> 1\u001b[0;31m \u001b[0mvariable_no_definida\u001b[0m\u001b[0;34m\u001b[0m\u001b[0;34m\u001b[0m\u001b[0m\n\u001b[0m",
            "\u001b[0;31mNameError\u001b[0m: name 'variable_no_definida' is not defined"
          ]
        }
      ]
    },
    {
      "cell_type": "markdown",
      "source": [
        "En el caso de los números, si tratamos de operar diferentes tipos de variables (`int` y `float`), el operador convertirá todos a punto flotante."
      ],
      "metadata": {
        "id": "_9Rdm8NhPVOG"
      }
    },
    {
      "cell_type": "code",
      "source": [
        "4 * 3.75 - 1"
      ],
      "metadata": {
        "colab": {
          "base_uri": "https://localhost:8080/"
        },
        "id": "uqQ5FacBPs-L",
        "outputId": "a143d8bd-2c90-46a2-aab6-71db1d4fca41"
      },
      "execution_count": null,
      "outputs": [
        {
          "output_type": "execute_result",
          "data": {
            "text/plain": [
              "11"
            ]
          },
          "metadata": {},
          "execution_count": 10
        }
      ]
    },
    {
      "cell_type": "markdown",
      "source": [
        "Pero, si mantenemos el tipo de variable el resultado sera el mismo tipo de variable."
      ],
      "metadata": {
        "id": "TkQLe9JbPvmh"
      }
    },
    {
      "cell_type": "code",
      "source": [
        "4 * 3 - 1"
      ],
      "metadata": {
        "colab": {
          "base_uri": "https://localhost:8080/"
        },
        "id": "dXRZr0gnP1in",
        "outputId": "7a7fd1aa-fae5-4eac-a94e-49937f83b039"
      },
      "execution_count": null,
      "outputs": [
        {
          "output_type": "execute_result",
          "data": {
            "text/plain": [
              "11"
            ]
          },
          "metadata": {},
          "execution_count": 11
        }
      ]
    },
    {
      "cell_type": "markdown",
      "source": [
        "Además de las variables `int` y `float`. Python soporta otro tipo de números, como `Decimal` y `Fraction` y números complejos, para estos últimos usa el sufijo `j` o `J` para indicar la parte imaginaria."
      ],
      "metadata": {
        "id": "VkehG8eLQH69"
      }
    },
    {
      "cell_type": "code",
      "source": [
        "numero_complejo = 3+5j"
      ],
      "metadata": {
        "id": "Yyqs6YiBQW1k"
      },
      "execution_count": null,
      "outputs": []
    },
    {
      "cell_type": "markdown",
      "source": [
        "Para saber que tipo de valor tiene asignada mi variable, utilizamos la función con el nombre reservado `type`, por ejemplo veamos que el numero anterior es efectivamente un numero complejo."
      ],
      "metadata": {
        "id": "xe0Jn5hrQgyb"
      }
    },
    {
      "cell_type": "code",
      "source": [
        "type(numero_complejo)"
      ],
      "metadata": {
        "colab": {
          "base_uri": "https://localhost:8080/"
        },
        "id": "U2indF9cQ3aT",
        "outputId": "6d0f20ad-f3af-4110-f256-695e961bb27d"
      },
      "execution_count": null,
      "outputs": [
        {
          "output_type": "execute_result",
          "data": {
            "text/plain": [
              "complex"
            ]
          },
          "metadata": {},
          "execution_count": 15
        }
      ]
    },
    {
      "cell_type": "markdown",
      "source": [
        "# Comparar cosas"
      ],
      "metadata": {
        "id": "yMAjJdc5TjL3"
      }
    },
    {
      "cell_type": "markdown",
      "source": [
        "Gran parte de la programación incluye comprar cosas. Lo más fácil de comparar son números.\n",
        "\n",
        "Los operadores estándar de comparasión son:\n",
        "\n",
        "*   `<` (menor que),\n",
        "*   `>` (mayor que),\n",
        "*   `==` (igual a),\n",
        "*   `<=` (menor que o igual a ),\n",
        "*   `>=` (mayor que o igual a ) y\n",
        "*   `!=` (no igual a ).\n"
      ],
      "metadata": {
        "id": "am2ve-IpT4Ns"
      }
    },
    {
      "cell_type": "markdown",
      "source": [
        "**Nota**: No conundir `=` con `==`, ya que con el primero es para asignar valores a variables y el segundo es para comprobar que dos cosas son iguales.\n"
      ],
      "metadata": {
        "id": "1xVKkawiUq5C"
      }
    },
    {
      "cell_type": "markdown",
      "source": [
        "Veamos algunos ejemplos:"
      ],
      "metadata": {
        "id": "hHZiOx2xU4ZP"
      }
    },
    {
      "cell_type": "code",
      "source": [
        "-1 < 0"
      ],
      "metadata": {
        "colab": {
          "base_uri": "https://localhost:8080/"
        },
        "id": "Pl2RZcCfVsDl",
        "outputId": "de372f48-9f6e-49e6-aee9-d806f0d671bf"
      },
      "execution_count": null,
      "outputs": [
        {
          "output_type": "execute_result",
          "data": {
            "text/plain": [
              "True"
            ]
          },
          "metadata": {},
          "execution_count": 18
        }
      ]
    },
    {
      "cell_type": "code",
      "source": [
        "5 > (2+1)**2"
      ],
      "metadata": {
        "colab": {
          "base_uri": "https://localhost:8080/"
        },
        "id": "Z2Z3A0MkVw3Z",
        "outputId": "d465b344-1b18-4560-e9db-007268a31343"
      },
      "execution_count": null,
      "outputs": [
        {
          "output_type": "execute_result",
          "data": {
            "text/plain": [
              "False"
            ]
          },
          "metadata": {},
          "execution_count": 19
        }
      ]
    },
    {
      "cell_type": "code",
      "source": [
        "1 == 1"
      ],
      "metadata": {
        "id": "mz12UTskV1-B"
      },
      "execution_count": null,
      "outputs": []
    },
    {
      "cell_type": "code",
      "source": [
        "3 != 1"
      ],
      "metadata": {
        "id": "aJygxmzRV5OP"
      },
      "execution_count": null,
      "outputs": []
    },
    {
      "cell_type": "code",
      "source": [
        "5 >= 10/2"
      ],
      "metadata": {
        "id": "-OZnTSaYV-Q9"
      },
      "execution_count": null,
      "outputs": []
    },
    {
      "cell_type": "code",
      "source": [
        "7 <= 11"
      ],
      "metadata": {
        "colab": {
          "base_uri": "https://localhost:8080/"
        },
        "id": "5aUFuEPpWBMD",
        "outputId": "fa3d6c57-78ce-4130-a2d6-2672b7a92cd0"
      },
      "execution_count": null,
      "outputs": [
        {
          "output_type": "execute_result",
          "data": {
            "text/plain": [
              "True"
            ]
          },
          "metadata": {},
          "execution_count": 20
        }
      ]
    },
    {
      "cell_type": "markdown",
      "source": [
        "EL resultado de las comparaciones siempre son Verdadero (`True`) y Falso (`False`), esta variables son de tipo booleano (`Boolean`) y son las univas de esta tipo.\n",
        "\n"
      ],
      "metadata": {
        "id": "QiOiTWVtWQu_"
      }
    },
    {
      "cell_type": "markdown",
      "source": [
        "La sintaxis de estas variables es escribir con la primera letra en mayúscula y el resto en minúscula, `True` y `False`\n",
        "\n",
        "\n"
      ],
      "metadata": {
        "id": "UuTo6sfpW7sm"
      }
    },
    {
      "cell_type": "markdown",
      "source": [
        "Los valores booleanos pueden ser asignados a variables, por ejemplo:"
      ],
      "metadata": {
        "id": "Nj1PPUFxW9EU"
      }
    },
    {
      "cell_type": "code",
      "source": [
        "true = True\n",
        "true"
      ],
      "metadata": {
        "colab": {
          "base_uri": "https://localhost:8080/"
        },
        "id": "aUjSGHSdW9oB",
        "outputId": "b73ff614-3581-43d2-87df-3fca9ccf59ad"
      },
      "execution_count": null,
      "outputs": [
        {
          "output_type": "execute_result",
          "data": {
            "text/plain": [
              "True"
            ]
          },
          "metadata": {},
          "execution_count": 21
        }
      ]
    },
    {
      "cell_type": "code",
      "source": [
        "a = 2 > 5\n",
        "a"
      ],
      "metadata": {
        "colab": {
          "base_uri": "https://localhost:8080/"
        },
        "id": "S34U4AWzXFQd",
        "outputId": "c7dcd989-a51b-4ab5-a50f-49603dc1d1d1"
      },
      "execution_count": null,
      "outputs": [
        {
          "output_type": "execute_result",
          "data": {
            "text/plain": [
              "False"
            ]
          },
          "metadata": {},
          "execution_count": 22
        }
      ]
    },
    {
      "cell_type": "markdown",
      "source": [
        "Otro operador que podemos usar son `and` y `or`, donde:\n",
        "\n",
        "*   `and` necesita que ambas comparaciones sean `True` para que el resultado final sea `True`, en caso contrario será `False`.\n",
        "*   `or` necesita que sólo una de las comparaciones sea `True` para que el resultado final `True`, en caso contrario será `False`.\n",
        "\n",
        "A continuación vemos ejemplos de su uso:"
      ],
      "metadata": {
        "id": "74_15AFbXQrQ"
      }
    },
    {
      "cell_type": "code",
      "source": [
        "8 > 4 and -1 < 0"
      ],
      "metadata": {
        "colab": {
          "base_uri": "https://localhost:8080/"
        },
        "id": "nHth49KWX_S4",
        "outputId": "57991e69-2f2c-4d67-a009-3c41db3a2023"
      },
      "execution_count": null,
      "outputs": [
        {
          "output_type": "execute_result",
          "data": {
            "text/plain": [
              "True"
            ]
          },
          "metadata": {},
          "execution_count": 23
        }
      ]
    },
    {
      "cell_type": "code",
      "source": [
        "-3 > -1 or 2 < 1"
      ],
      "metadata": {
        "colab": {
          "base_uri": "https://localhost:8080/"
        },
        "id": "Z3HNtTx7YEnT",
        "outputId": "acb5d53a-e8b1-4cf3-df89-ff6a1f639e43"
      },
      "execution_count": null,
      "outputs": [
        {
          "output_type": "execute_result",
          "data": {
            "text/plain": [
              "False"
            ]
          },
          "metadata": {},
          "execution_count": 25
        }
      ]
    },
    {
      "cell_type": "markdown",
      "source": [
        "# Ejercicio"
      ],
      "metadata": {
        "id": "sOgWJIMDYOP2"
      }
    },
    {
      "cell_type": "markdown",
      "source": [
        "Escribe el resultado de los siguiente comandos, depues ejecutálos y compara tu respuesta."
      ],
      "metadata": {
        "id": "ZZWjd36vaPtO"
      }
    },
    {
      "cell_type": "code",
      "source": [
        "True and True"
      ],
      "metadata": {
        "id": "vwpvJ1ssaYwo"
      },
      "execution_count": null,
      "outputs": []
    },
    {
      "cell_type": "code",
      "source": [
        "False and True"
      ],
      "metadata": {
        "id": "15BVkhrrabKU"
      },
      "execution_count": null,
      "outputs": []
    },
    {
      "cell_type": "code",
      "source": [
        "True or 1 == 1"
      ],
      "metadata": {
        "id": "ymSgn0NjacvL"
      },
      "execution_count": null,
      "outputs": []
    },
    {
      "cell_type": "code",
      "source": [
        "(1+1)**2 != 2**2"
      ],
      "metadata": {
        "id": "11g3_l40afR2"
      },
      "execution_count": null,
      "outputs": []
    },
    {
      "cell_type": "code",
      "source": [
        "False and False"
      ],
      "metadata": {
        "id": "tgnd54JqakTm"
      },
      "execution_count": null,
      "outputs": []
    },
    {
      "cell_type": "markdown",
      "source": [
        "# Bibliografía"
      ],
      "metadata": {
        "id": "EbmeMm2JalQa"
      }
    },
    {
      "cell_type": "markdown",
      "source": [
        "*   https://docs.python.org/3/tutorial/appetite.html\n",
        "*   https://tutorial.djangogirls.org/es/python_introduction/\n",
        "*   https://github.com/psuarezserrato/curso-redes-python/blob/master/1%20Introduccion%20a%20Python.ipynb"
      ],
      "metadata": {
        "id": "Vzhwg3iRam9r"
      }
    }
  ]
}